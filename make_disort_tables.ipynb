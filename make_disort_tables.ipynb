{
 "cells": [
  {
   "cell_type": "code",
   "execution_count": 1,
   "id": "fb8f5bbf-fac9-4337-aa7c-bc276bc2324b",
   "metadata": {},
   "outputs": [],
   "source": [
    "import h5py\n",
    "import numpy as np\n",
    "import pandas as pd\n",
    "from core_functions import call_disort\n",
    "from tqdm import tqdm "
   ]
  },
  {
   "cell_type": "code",
   "execution_count": 2,
   "id": "a1067726-188a-4549-a805-7af717a4531e",
   "metadata": {},
   "outputs": [
    {
     "data": {
      "text/plain": [
       "'1.26.4'"
      ]
     },
     "execution_count": 2,
     "metadata": {},
     "output_type": "execute_result"
    }
   ],
   "source": [
    "# must be 1.26.4\n",
    "np.__version__"
   ]
  },
  {
   "cell_type": "code",
   "execution_count": 3,
   "id": "f4e2865b-adc9-419a-861d-556a85eaf48a",
   "metadata": {},
   "outputs": [
    {
     "name": "stdout",
     "output_type": "stream",
     "text": [
      "gcc (MinGW-W64 x86_64-ucrt-posix-seh, built by Brecht Sanders, r3) 14.1.0\n",
      "Copyright (C) 2024 Free Software Foundation, Inc.\n",
      "This is free software; see the source for copying conditions.  There is NO\n",
      "warranty; not even for MERCHANTABILITY or FITNESS FOR A PARTICULAR PURPOSE.\n",
      "\n",
      "GNU Fortran (MinGW-W64 x86_64-ucrt-posix-seh, built by Brecht Sanders, r3) 14.1.0\n",
      "Copyright (C) 2024 Free Software Foundation, Inc.\n",
      "This is free software; see the source for copying conditions.  There is NO\n",
      "warranty; not even for MERCHANTABILITY or FITNESS FOR A PARTICULAR PURPOSE.\n",
      "\n",
      "Python 3.12.4\n"
     ]
    }
   ],
   "source": [
    "!gcc --version\n",
    "!gfortran --version\n",
    "\n",
    "# must be 3.12.4\n",
    "!python --version"
   ]
  },
  {
   "cell_type": "code",
   "execution_count": 7,
   "id": "e3f7d150-18ff-465d-b6dd-9d08917ec1e8",
   "metadata": {},
   "outputs": [],
   "source": [
    "GAS_EXT_PATH = 'gas_ext/'\n",
    "GAS_EXT_FILE = 'gas_ext_CO2_hot_ames_bezard_H2O_HDO_hitran_foreign_cont_MTCKD_005_9600_11000_104.csv'\n",
    "\n",
    "PROFILE_FILENAME = 'VIRAPROFILE.txt'\n",
    "AEROSOL_FILENAME = 'venusclouds_75_Haus16.txt'\n",
    "\n",
    "LINES_PATH = 'databases/'\n",
    "INPUT_PATH = 'input/'\n",
    "\n",
    "CORE_NAME = GAS_EXT_FILE[8:-4]\n",
    "\n",
    "OUTPUT_PATH = f'disort_output/'\n",
    "OUTPUT_FILENAME = f'disort_table_{CORE_NAME}.h5'"
   ]
  },
  {
   "cell_type": "code",
   "execution_count": 8,
   "id": "e0491b95-52ad-41d1-a4da-f510a2cabeb7",
   "metadata": {},
   "outputs": [
    {
     "data": {
      "text/plain": [
       "'disort_table_CO2_hot_ames_bezard_H2O_HDO_hitran_foreign_cont_MTCKD_005_9600_11000_104.h5'"
      ]
     },
     "execution_count": 8,
     "metadata": {},
     "output_type": "execute_result"
    }
   ],
   "source": [
    "OUTPUT_FILENAME"
   ]
  },
  {
   "cell_type": "code",
   "execution_count": 9,
   "id": "ab55aad3-015e-4bff-8f1e-7948a1a78ad9",
   "metadata": {},
   "outputs": [],
   "source": [
    "gas_abs_data = pd.read_csv(GAS_EXT_PATH + GAS_EXT_FILE, header=None)\n",
    "wavenum = np.array(gas_abs_data)[0]"
   ]
  },
  {
   "cell_type": "code",
   "execution_count": 10,
   "id": "4df9fc65-a84a-445d-8d01-c86cd601b3b3",
   "metadata": {},
   "outputs": [],
   "source": [
    "# Определим сетки параметров\n",
    "sf_ = np.arange(2.4, 0.3, -0.4)  # sf (2.4, 2.0, 1.6, 1.2, 0.8, 0.4)\n",
    "hmin_ = np.arange(-3, 11, 1)  # hmin (-3, -2, -1,  0,  1,  2,  3,  4,  5,  6,  7,  8,  9, 10 )\n",
    "emis_ang_ = np.arange(0, 30, 10) # emis ang (0, 10, 20)\n",
    "\n",
    "# sf_ = np.array([1.6, 0.8])\n",
    "# hmin_ = np.array([-3, 0, 3, 6, 9])\n",
    "# emis_ang_ = np.array([0, 5]) \n",
    "# 0.7660,  0.8660,  0.9397,  0.9848, 1.0\n",
    "# Длина спектра, который возвращает call_disort\n",
    "spectrum_length = len(wavenum)"
   ]
  },
  {
   "cell_type": "code",
   "execution_count": null,
   "id": "b3f4d4a4-5a2f-4438-b4c2-091723f89438",
   "metadata": {},
   "outputs": [
    {
     "name": "stderr",
     "output_type": "stream",
     "text": [
      "Заполнение HDF5 файла:  67%|█████████████████████████████▌              | 169/252 [2:47:15<1:19:37, 57.57s/combination]"
     ]
    }
   ],
   "source": [
    "# Создаем или открываем HDF5 файл для записи спектров\n",
    "with h5py.File(OUTPUT_PATH + OUTPUT_FILENAME, 'a') as f:\n",
    "    # Если это первый запуск, создаем датасеты (если уже созданы, просто загружаем их)\n",
    "    if 'sf' not in f:\n",
    "        f.create_dataset('sf', data=sf_)\n",
    "        f.create_dataset('topo', data=hmin_)\n",
    "        f.create_dataset('emis_ang', data=emis_ang_)\n",
    "        spectra_dataset = f.create_dataset('spectra', \n",
    "                                           shape=(len(sf_), len(hmin_), len(emis_ang_), spectrum_length),\n",
    "                                           dtype='f4')\n",
    "        progress_dataset = f.create_dataset('progress', data=np.zeros((len(sf_), len(hmin_), len(emis_ang_))))\n",
    "    else:\n",
    "        spectra_dataset = f['spectra']\n",
    "        progress_dataset = f['progress']\n",
    "        # print(progress_dataset)\n",
    "\n",
    "    # Общее количество комбинаций для отображения прогресса\n",
    "    total_steps = len(sf_) * len(hmin_) * len(emis_ang_)\n",
    "\n",
    "    # Инициализируем прогресс-бар с помощью tqdm\n",
    "    with tqdm(total=total_steps, desc=\"Заполнение HDF5 файла\", unit=\"combination\") as pbar:\n",
    "        for i, x1 in enumerate(sf_):\n",
    "            for j, x2 in enumerate(hmin_):\n",
    "                for k, x3 in enumerate(emis_ang_):\n",
    "                    # Проверяем, был ли уже записан спектр для этой комбинации параметров\n",
    "                    if progress_dataset[i, j, k] == 1:\n",
    "                        pbar.update(1)\n",
    "                        continue  # Пропускаем, если уже записано\n",
    "                    \n",
    "                    # Вызываем функцию для расчета спектра\n",
    "                    _, spectrum = call_disort(\n",
    "                        lines_path=LINES_PATH, \n",
    "                        input_path=INPUT_PATH, \n",
    "                        profile_filename=PROFILE_FILENAME, \n",
    "                        aerosol_filename=AEROSOL_FILENAME, \n",
    "                        gas_ext_path=GAS_EXT_PATH, \n",
    "                        gas_ext_file=GAS_EXT_FILE, \n",
    "                        hmin=x2, \n",
    "                        emis_ang=x3,\n",
    "                        sf=x1, \n",
    "                        emis=0.95, \n",
    "                        ic=0.3, \n",
    "                        dh=0\n",
    "                    )\n",
    "                    \n",
    "                    # Записываем спектр в соответствующую позицию датасета\n",
    "                    spectra_dataset[i, j, k, :] = spectrum\n",
    "                    \n",
    "                    # Обновляем прогресс, указывая, что спектр записан\n",
    "                    progress_dataset[i, j, k] = 1\n",
    "                    \n",
    "                    # Обновляем прогресс-бар\n",
    "                    pbar.update(1)\n",
    "\n",
    "print(\"Заполнение HDF5 файла завершено.\")"
   ]
  },
  {
   "cell_type": "code",
   "execution_count": null,
   "id": "f18c5d24-500c-4677-9564-7ab2a232729a",
   "metadata": {},
   "outputs": [],
   "source": []
  }
 ],
 "metadata": {
  "kernelspec": {
   "display_name": "Python 3.11.9",
   "language": "python",
   "name": "py311"
  },
  "language_info": {
   "codemirror_mode": {
    "name": "ipython",
    "version": 3
   },
   "file_extension": ".py",
   "mimetype": "text/x-python",
   "name": "python",
   "nbconvert_exporter": "python",
   "pygments_lexer": "ipython3",
   "version": "3.11.9"
  }
 },
 "nbformat": 4,
 "nbformat_minor": 5
}
