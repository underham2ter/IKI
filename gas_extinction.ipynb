{
 "cells": [
  {
   "cell_type": "markdown",
   "id": "635decf2-d79b-449d-988e-3ddec69d602b",
   "metadata": {},
   "source": [
    "Для запуска необходимо иметь 5 файлов в папке с блокнотом\n",
    "1. cpfX.py\n",
    "2. read_bases.py\n",
    "3. hapi.py\n",
    "4. VIRAPROFILE.txt\n",
    "5. Файл с линиями поглощения"
   ]
  },
  {
   "cell_type": "markdown",
   "id": "4341cd58-90f6-4d25-b53d-872db144f8b7",
   "metadata": {},
   "source": [
    "## 0. Imports"
   ]
  },
  {
   "cell_type": "code",
   "execution_count": 1,
   "id": "1dc3bbc1-1680-4c53-9a50-81f2a357f35d",
   "metadata": {
    "colab": {
     "base_uri": "https://localhost:8080/"
    },
    "id": "1dc3bbc1-1680-4c53-9a50-81f2a357f35d",
    "outputId": "ce09b70c-98aa-4424-b2e1-f37d1daf492a",
    "scrolled": true
   },
   "outputs": [
    {
     "name": "stdout",
     "output_type": "stream",
     "text": [
      "HAPI version: 1.2.2.2\n",
      "To get the most up-to-date version please check http://hitran.org/hapi\n",
      "ATTENTION: Python versions of partition sums from TIPS-2021 are now available in HAPI code\n",
      "\n",
      "           MIT license: Copyright 2021 HITRAN team, see more at http://hitran.org. \n",
      "\n",
      "           If you use HAPI in your research or software development,\n",
      "           please cite it using the following reference:\n",
      "           R.V. Kochanov, I.E. Gordon, L.S. Rothman, P. Wcislo, C. Hill, J.S. Wilzewski,\n",
      "           HITRAN Application Programming Interface (HAPI): A comprehensive approach\n",
      "           to working with spectroscopic data, J. Quant. Spectrosc. Radiat. Transfer 177, 15-30 (2016)\n",
      "           DOI: 10.1016/j.jqsrt.2016.03.005\n",
      "\n",
      "           ATTENTION: This is the core version of the HITRAN Application Programming Interface.\n",
      "                      For more efficient implementation of the absorption coefficient routine, \n",
      "                      as well as for new profiles, parameters and other functional,\n",
      "                      please consider using HAPI2 extension library.\n",
      "                      HAPI2 package is available at http://github.com/hitranonline/hapi2\n",
      "\n"
     ]
    }
   ],
   "source": [
    "import numpy as np\n",
    "import matplotlib.pyplot as plt\n",
    "import scipy\n",
    "import os\n",
    "from read_bases import *\n",
    "from scipy import constants\n",
    "import pandas as pd\n",
    "from misc_functions import * # Пока что тут константы\n",
    "from tqdm import tqdm # for loop time\n",
    "from hapi import partitionSum\n",
    "import netCDF4 as netcdf"
   ]
  },
  {
   "cell_type": "markdown",
   "id": "39cc1127-1f9b-4837-a8a0-29df96b430a5",
   "metadata": {},
   "source": [
    "## 1. Inputs"
   ]
  },
  {
   "cell_type": "markdown",
   "id": "5e0bf54a-bc0f-4634-ba11-f094eaf70e48",
   "metadata": {},
   "source": [
    "### 1.1 Set up directories"
   ]
  },
  {
   "cell_type": "code",
   "execution_count": 2,
   "id": "64aeb95e-772a-4b62-b725-b5fbacdb3a6f",
   "metadata": {},
   "outputs": [],
   "source": [
    "DATABASE_CO2 = 'hot_ames' # 'hitran' # 'ames', 'bezard'\n",
    "FILENAME_CO2 = 'co2hitemp.allmixed.296K-1000K.cut' # '65f81198.par' # 'Ames-2016.natural.co2.296k.list.long.format.dat', bezard_hotco2_1mu_cdsd.dat'\n",
    "DATABASE_H2O = 'hitran' # 'hitran' # 'ames', 'bezard'\n",
    "FILENAME_H2O = '6689a056.par' # '65f81198.par' # 'Ames-2016.natural.co2.296k.list.long.format.dat', bezard_hotco2_1mu_cdsd.dat'\n",
    "DATABASE_HDO = 'hitran' # 'hitran' # 'ames', 'bezard'\n",
    "FILENAME_HDO = '6689a056.par' # '65f81198.par' # 'Ames-2016.natural.co2.296k.list.long.format.dat', bezard_hotco2_1mu_cdsd.dat'\n",
    "FILENAME_H2O_CONT = 'databases/absco-ref_wv-mt-ckd.nc'\n",
    "\n",
    "PROFILE_CO2 = 'bezard' # 'voigt'\n",
    "PROFILE_H2O = 'foreign_cont_MTCKD' # foreign_cont foreign_cont_sep foreign_cont_MTCKD\n",
    "\n",
    "PROFILE_FILENAME = 'VIRAPROFILE.txt'\n",
    "AEROSOL_FILENAME = 'venusclouds_75_Haus16.txt'\n",
    "LINES_PATH = 'databases/'\n",
    "INPUT_PATH = 'input/'\n",
    "OUTPUT_PATH = 'gas_ext/'\n",
    "OUTPUT_PATH_ABS = 'absorbtion_cross_sections/'"
   ]
  },
  {
   "cell_type": "markdown",
   "id": "9d6698a4-ce24-4144-8896-740ce7f6bbad",
   "metadata": {},
   "source": [
    "### 1.2 Set up wavenumber grid"
   ]
  },
  {
   "cell_type": "code",
   "execution_count": 3,
   "id": "3d47182c-1ff7-4152-9ca5-475a39d0e39b",
   "metadata": {},
   "outputs": [],
   "source": [
    "step = 0.05\n",
    "step_txt = str(step).replace('.', '')\n",
    "cutoff_co2 = 250\n",
    "cutoff_h2o = 180\n",
    "cutoff_cont_h2o = 25\n",
    "effect_limit = max(cutoff_co2, cutoff_h2o) # cm^-1\n",
    "left_limit = 9600 # 9650 # 9650 # 9400 # cm^-1\n",
    "right_limit = 11000 # 9700 # 10550 #  9900 # 11000\n",
    "span = right_limit - left_limit"
   ]
  },
  {
   "cell_type": "code",
   "execution_count": 4,
   "id": "ba5e6443-4106-4451-a4f5-6bee938d4cb6",
   "metadata": {
    "id": "ba5e6443-4106-4451-a4f5-6bee938d4cb6"
   },
   "outputs": [
    {
     "name": "stdout",
     "output_type": "stream",
     "text": [
      "(38001,)\n"
     ]
    },
    {
     "data": {
      "text/plain": [
       "array([ 9350.        ,  9350.05      ,  9350.1       , ...,\n",
       "       11249.89999997, 11249.94999997, 11249.99999997])"
      ]
     },
     "execution_count": 4,
     "metadata": {},
     "output_type": "execute_result"
    }
   ],
   "source": [
    "#wavenumber range for calculating profiles with cut-off ±250 cm^-1\n",
    "w = np.arange(left_limit - effect_limit, right_limit + effect_limit + step, step)\n",
    "print(w.shape)\n",
    "w"
   ]
  },
  {
   "cell_type": "markdown",
   "id": "0d2e18b4-5da5-4a4d-879f-bf40992bd54b",
   "metadata": {},
   "source": [
    "### 1.3 Hyperparameters "
   ]
  },
  {
   "cell_type": "code",
   "execution_count": 5,
   "id": "5dffdf6f-6bdd-4375-8e74-e145cc1cc47d",
   "metadata": {},
   "outputs": [],
   "source": [
    "ic = 0.0 # CO2 continuum coefficient\n",
    "ihdo = 1 # HDO = 1 => H2O/HDO = 128 SMOW; HDO = 0 => no HDO\n",
    "iw = 28  # H2O volume mixing ratio (VMR = Nh2o/Nco2)\n",
    "vmrco2 = 0.965\n",
    "vmrh2o = iw * 1e-6\n",
    "vmrhdo = ihdo * vmrh2o * 128 * 3.1153e-4\n",
    "\n",
    "if ihdo == 0:\n",
    "    vmrh2o = iw * 1e-6 * (1 + 128 * 3.1153e-4)\n",
    "\n",
    "T_ref_co2 = 296\n",
    "T_ref_h2o = 296"
   ]
  },
  {
   "cell_type": "markdown",
   "id": "767df7f6-66c5-4f90-b229-c90d60680919",
   "metadata": {
    "id": "767df7f6-66c5-4f90-b229-c90d60680919"
   },
   "source": [
    "## 2. Profile of the atmoshpere"
   ]
  },
  {
   "cell_type": "code",
   "execution_count": 6,
   "id": "f82c276e-ceb8-4931-8cf8-ff291d03a2b2",
   "metadata": {
    "id": "f82c276e-ceb8-4931-8cf8-ff291d03a2b2"
   },
   "outputs": [],
   "source": [
    "pressure, height, concentration, temperature = np.loadtxt(INPUT_PATH + PROFILE_FILENAME, skiprows = 1, unpack=True)\n",
    "\n",
    "height_corrected = np.arange(-3, 101, 1)\n",
    "pressure_corrected = np.exp(interp1d(height, np.log(pressure), kind='linear', fill_value='extrapolate')(height_corrected))\n",
    "concentration_corrected = np.exp(interp1d(height, np.log(concentration), kind='linear', fill_value='extrapolate')(height_corrected))\n",
    "temperature_corrected = interp1d(height, temperature, kind='linear', fill_value='extrapolate')(height_corrected)\n",
    "\n",
    "atm = np.column_stack([\n",
    "    pressure_corrected, \n",
    "    height_corrected, \n",
    "    concentration_corrected, \n",
    "    temperature_corrected\n",
    "])"
   ]
  },
  {
   "cell_type": "code",
   "execution_count": 7,
   "id": "8d6f87ee-1681-4c3c-812a-a746fda15b96",
   "metadata": {},
   "outputs": [
    {
     "data": {
      "text/plain": [
       "104"
      ]
     },
     "execution_count": 7,
     "metadata": {},
     "output_type": "execute_result"
    }
   ],
   "source": [
    "len(atm)"
   ]
  },
  {
   "cell_type": "markdown",
   "id": "a4b6bc6d-b14c-4003-a3fa-ec83a6de0e1b",
   "metadata": {},
   "source": [
    "## 3. CO2 cross-sections"
   ]
  },
  {
   "cell_type": "markdown",
   "id": "bcd25e97-2090-4723-9a5f-c445c1846951",
   "metadata": {},
   "source": [
    "### 3.1 Load spectral lines"
   ]
  },
  {
   "cell_type": "code",
   "execution_count": 8,
   "id": "40ac0638-e279-45c9-80a0-ae20011b358b",
   "metadata": {},
   "outputs": [
    {
     "name": "stdout",
     "output_type": "stream",
     "text": [
      "Reading \"databases/co2hitemp.allmixed.296K-1000K.cut\" ...\n"
     ]
    },
    {
     "data": {
      "text/plain": [
       "(3348092, 8)"
      ]
     },
     "execution_count": 8,
     "metadata": {},
     "output_type": "execute_result"
    }
   ],
   "source": [
    "if DATABASE_CO2 == 'hitran':\n",
    "    line_data = read_hitran2012(LINES_PATH + FILENAME_CO2)\n",
    "elif DATABASE_CO2 == 'ames':\n",
    "    line_data = read_ames(LINES_PATH + FILENAME_CO2)\n",
    "elif DATABASE_CO2 == 'hot_ames':\n",
    "    line_data = read_hot_ames(LINES_PATH + FILENAME_CO2)\n",
    "elif DATABASE_CO2 == 'bezard':\n",
    "    line_data = read_bezard(LINES_PATH + FILENAME_CO2)\n",
    "\n",
    "df = pd.DataFrame(line_data)\n",
    "df.shape"
   ]
  },
  {
   "cell_type": "code",
   "execution_count": 9,
   "id": "PVwDlBa3qruZ",
   "metadata": {
    "colab": {
     "base_uri": "https://localhost:8080/",
     "height": 445
    },
    "id": "PVwDlBa3qruZ",
    "outputId": "aaf09c44-7508-4112-9361-8c8ab75bc937",
    "scrolled": true
   },
   "outputs": [
    {
     "data": {
      "image/png": "[encoded data removed]",
      "text/plain": [
       "<Figure size 640x480 with 1 Axes>"
      ]
     },
     "metadata": {},
     "output_type": "display_data"
    }
   ],
   "source": [
    "plt.scatter(df.linecenter, df.S, s=0.5)\n",
    "plt.show();"
   ]
  },
  {
   "cell_type": "code",
   "execution_count": 10,
   "id": "627640de-fe11-4c78-a172-04d669fde443",
   "metadata": {
    "scrolled": true
   },
   "outputs": [
    {
     "data": {
      "image/png": "[encoded data removed]",
      "text/plain": [
       "<Figure size 640x480 with 1 Axes>"
      ]
     },
     "metadata": {},
     "output_type": "display_data"
    }
   ],
   "source": [
    "plt.hist(np.log(df.S))\n",
    "plt.show();"
   ]
  },
  {
   "cell_type": "markdown",
   "id": "06e08261-e0f6-49d9-a6e9-f4a2053042cd",
   "metadata": {
    "id": "06e08261-e0f6-49d9-a6e9-f4a2053042cd"
   },
   "source": [
    "### 3.2 Get required range"
   ]
  },
  {
   "cell_type": "code",
   "execution_count": 11,
   "id": "904e48c2-4195-45ca-b9e9-e05c230bcb95",
   "metadata": {},
   "outputs": [
    {
     "data": {
      "text/plain": [
       "77041"
      ]
     },
     "execution_count": 11,
     "metadata": {},
     "output_type": "execute_result"
    }
   ],
   "source": [
    "wavenum_mask = (\n",
    "    (line_data['linecenter'] >= left_limit - effect_limit) & \n",
    "    (line_data['linecenter'] <= right_limit + effect_limit)\n",
    ")\n",
    "\n",
    "iso_mask = np.ones(len(line_data['I']))\n",
    "\n",
    "intensity_mask = line_data['S'] > np.exp(-75)\n",
    "\n",
    "mask = np.where(iso_mask * wavenum_mask * intensity_mask == 1)[0]\n",
    "\n",
    "m = len(mask)\n",
    "m"
   ]
  },
  {
   "cell_type": "code",
   "execution_count": 12,
   "id": "f11549c5-a219-4faf-b2ae-92e982e4a55b",
   "metadata": {
    "id": "f11549c5-a219-4faf-b2ae-92e982e4a55b"
   },
   "outputs": [],
   "source": [
    "E = line_data['Epp'][mask]\n",
    "intensity_ref = line_data['S'][mask]\n",
    "iso = line_data['I'][mask]\n",
    "\n",
    "pshift = line_data['delta'][mask]\n",
    "n = line_data['N'][mask]\n",
    "\n",
    "gamma_self = np.array(line_data['gamma-self'])[mask]\n",
    "gamma_air = line_data['gamma-air'][mask] # * 1.5 "
   ]
  },
  {
   "cell_type": "markdown",
   "id": "b32155f3-a4b7-4652-be67-7d643898920f",
   "metadata": {},
   "source": [
    "### 3.3 Molar mass"
   ]
  },
  {
   "cell_type": "code",
   "execution_count": 13,
   "id": "sg8uG-igvBIN",
   "metadata": {
    "colab": {
     "base_uri": "https://localhost:8080/"
    },
    "id": "sg8uG-igvBIN",
    "outputId": "1141b43d-f1be-47d0-a06b-7b5f5d0f7796"
   },
   "outputs": [
    {
     "data": {
      "text/plain": [
       "array([ 1,  2,  3,  4,  5,  6,  7,  8,  9, 10, 11])"
      ]
     },
     "execution_count": 13,
     "metadata": {},
     "output_type": "execute_result"
    }
   ],
   "source": [
    "np.unique(iso)"
   ]
  },
  {
   "cell_type": "code",
   "execution_count": 14,
   "id": "0d8a3bf1-1547-4925-9f68-85696a653e05",
   "metadata": {
    "id": "0d8a3bf1-1547-4925-9f68-85696a653e05"
   },
   "outputs": [],
   "source": [
    "molar_mass_reference = np.array([43.989830, 44.993185, 45.994076, 44.994045,\n",
    "                                 46.997431, 45.997400, 47.998320, 46.998291,\n",
    "                                 45.998262, 49.001675, 48.001646, 47.001618])\n",
    "\n",
    "abundance_reference = np.array([9.84204e-1, 1.10574e-2, 3.94707e-3, 7.33989e-4,\n",
    "                                4.43446e-5, 8.24623e-6, 3.95734e-6, 1.47180e-6, \n",
    "                                1.36847e-7, 4.44600e-8, 1.65354e-8, 1.53745e-9])\n",
    "\n",
    "mol_mass = []\n",
    "abundance = []\n",
    "for j in range(m):\n",
    "    mol_mass.append(molar_mass_reference[iso[j]-1])\n",
    "    abundance.append(abundance_reference[iso[j]-1])"
   ]
  },
  {
   "cell_type": "code",
   "execution_count": 15,
   "id": "a0ebdfc8-3395-4ea6-91e1-058b5adf5da2",
   "metadata": {},
   "outputs": [],
   "source": [
    "delta_nu = np.absolute(w - np.array(line_data['linecenter'])[mask][50000])\n",
    "chi = np.ones(len(w))\n",
    "\n",
    "mask1 = delta_nu < 3\n",
    "mask2 = (delta_nu >= 3) & (delta_nu < 20)\n",
    "mask3 = (delta_nu >= 20) & (delta_nu < 120)\n",
    "mask4 = (delta_nu >= 120)\n",
    "mask5 = delta_nu >= cutoff_co2\n",
    "\n",
    "chi[mask2] = 1.2214*np.exp(-delta_nu[mask2]/15)\n",
    "chi[mask3] = 0.3477*np.exp(-delta_nu[mask3]/260)\n",
    "chi[mask4] = 0.7276*np.exp(-delta_nu[mask4]/100)\n",
    "chi[mask5] = 0"
   ]
  },
  {
   "cell_type": "code",
   "execution_count": 16,
   "id": "b17c2e6a-49c5-445e-9d95-fabd46d597de",
   "metadata": {},
   "outputs": [
    {
     "data": {
      "text/plain": [
       "[<matplotlib.lines.Line2D at 0x19c27bc6dd0>]"
      ]
     },
     "execution_count": 16,
     "metadata": {},
     "output_type": "execute_result"
    },
    {
     "data": {
      "image/png": "[encoded data removed]",
      "text/plain": [
       "<Figure size 640x480 with 1 Axes>"
      ]
     },
     "metadata": {},
     "output_type": "display_data"
    }
   ],
   "source": [
    "plt.plot(w, chi)"
   ]
  },
  {
   "cell_type": "markdown",
   "id": "5e68a20a-6f70-4b31-bcea-3848370d2eb9",
   "metadata": {
    "id": "5e68a20a-6f70-4b31-bcea-3848370d2eb9"
   },
   "source": [
    "### 3.4 Calculating cross-sections"
   ]
  },
  {
   "cell_type": "code",
   "execution_count": 17,
   "id": "362901a7-26e2-4c47-b1c2-39bd6655bfe6",
   "metadata": {
    "colab": {
     "base_uri": "https://localhost:8080/"
    },
    "id": "362901a7-26e2-4c47-b1c2-39bd6655bfe6",
    "outputId": "f036dc0d-c22f-45ad-f4d9-9edb62079195",
    "scrolled": true
   },
   "outputs": [
    {
     "name": "stderr",
     "output_type": "stream",
     "text": [
      "100%|██████████████████████████████████████████████████████████████████████████████| 104/104 [2:07:00<00:00, 73.27s/it]\n"
     ]
    }
   ],
   "source": [
    "spectrum_co2 = []\n",
    "\n",
    "#Loop for viraprofile of temperature and pressure\n",
    "for l in tqdm(range(len(atm))):\n",
    "    nu = np.array(line_data['linecenter'])[mask]\n",
    "    p_self = atm[l, 0]\n",
    "    T = atm[l, 3]\n",
    "    p = atm[l, 0]\n",
    "\n",
    "    wD = doppler_fwhm(nu, T, mol_mass) #calculating half-width at half-maximum for doppler\n",
    "    wL = lorenz_fwhm(p, T, 350, gamma_self, gamma_air, p_self, n) #for Lorentz\n",
    "\n",
    "    #Calculating the spectrum of cross-sections\n",
    "    sigma = np.zeros(w.size)\n",
    "    for k in np.arange(0,m):\n",
    "        #Calculating line strength\n",
    "        Q = partitionSum(2, iso[k], T_ref_co2) #uses hapi module to calculate partition sums\n",
    "        Qt = partitionSum(2, iso[k], T)\n",
    "        intensity = abundance[k] * intensity_ref[k]*Q/Qt*(np.exp(-RADCN2*E[k]/T)/np.exp(-RADCN2*E[k]/T_ref_co2))*(1 - np.exp(-RADCN2*nu[k]/T))/(1 - np.exp(-RADCN2*nu[k]/T_ref_co2))\n",
    "        ## ======================================================\n",
    "        \n",
    "        nu[k] = nu[k] + pshift[k] * p\n",
    "\n",
    "        delta_nu = np.absolute(w - nu[k])\n",
    "\n",
    "        #chi facotor\n",
    "        chi = np.ones(len(w))\n",
    "\n",
    "        if PROFILE_CO2 == 'bezard':\n",
    "            \n",
    "            mask1 = (delta_nu >= 3) & (delta_nu < 20)\n",
    "            mask2 = (delta_nu >= 20) & (delta_nu < 120)\n",
    "            mask3 = (delta_nu >= 120) & (delta_nu < cutoff_co2)\n",
    "    \n",
    "            chi[mask1] = 1.2214*np.exp(-delta_nu[mask1]/15)\n",
    "            chi[mask2] = 0.3477*np.exp(-delta_nu[mask2]/260)\n",
    "            chi[mask3] = 0.7276*np.exp(-delta_nu[mask3]/100)    \n",
    "        \n",
    "        # Применение cutoff\n",
    "        \n",
    "        chi[delta_nu >= cutoff_co2] = 0\n",
    "\n",
    "        #Calculating voight profiles with Humlıcek approximation\n",
    "\n",
    "        y = wL[k] / wD[k]\n",
    "        x = (w-nu[k]) / wD[k]\n",
    "\n",
    "        scale = 1/(wD[k]*np.sqrt(np.pi))\n",
    "\n",
    "        profile = compute_profile(x, y)*scale\n",
    "        profile = profile * chi\n",
    "\n",
    "        # Calculating cross_sections\n",
    "        cross_section = profile*intensity\n",
    "        cross_section = cross_section.real\n",
    "\n",
    "        sigma += cross_section\n",
    "\n",
    "    spectrum_co2.append(sigma)"
   ]
  },
  {
   "cell_type": "code",
   "execution_count": 18,
   "id": "2539f321-5567-45c2-b2a7-f4a620a24358",
   "metadata": {},
   "outputs": [],
   "source": [
    "spectrum_co2 = np.array(spectrum_co2)\n",
    "output = np.vstack((w, spectrum_co2))\n",
    "np.savetxt(OUTPUT_PATH_ABS + f'abs_cross_section_CO2_{DATABASE_CO2}_{PROFILE_CO2}_{step_txt}_{left_limit}_{right_limit}_{len(atm)}.csv', output, delimiter=',')"
   ]
  },
  {
   "cell_type": "markdown",
   "id": "e530fb07-e06d-432e-979a-549e666becf5",
   "metadata": {},
   "source": [
    "## 4. H2O cross-sections"
   ]
  },
  {
   "cell_type": "markdown",
   "id": "aa671ac7-abe3-44cf-83d4-e45559593680",
   "metadata": {},
   "source": [
    "### 4.1 Load spectral lines"
   ]
  },
  {
   "cell_type": "code",
   "execution_count": 17,
   "id": "891632c2-2b9c-4a46-a1fa-180560107262",
   "metadata": {},
   "outputs": [
    {
     "name": "stdout",
     "output_type": "stream",
     "text": [
      "Reading \"databases/6689a056.par\" ...\n"
     ]
    }
   ],
   "source": [
    "if DATABASE_H2O == 'hitran':\n",
    "    line_data = read_hitran2012(LINES_PATH + FILENAME_H2O)\n",
    "elif DATABASE_H2O == 'ames':\n",
    "    line_data = read_ames(LINES_PATH + FILENAME_H2O)\n",
    "elif DATABASE_H2O == 'bezard':\n",
    "    line_data = read_bezard(LINES_PATH + FILENAME_H2O)\n",
    "    \n",
    "continuum_data = netcdf.Dataset(FILENAME_H2O_CONT)\n",
    "\n",
    "# df = pd.DataFrame(line_data)\n",
    "# df.shape"
   ]
  },
  {
   "cell_type": "code",
   "execution_count": 18,
   "id": "fb597f3c-e114-4b19-acb2-0d04af93e1cd",
   "metadata": {
    "colab": {
     "base_uri": "https://localhost:8080/",
     "height": 445
    },
    "id": "PVwDlBa3qruZ",
    "outputId": "aaf09c44-7508-4112-9361-8c8ab75bc937"
   },
   "outputs": [],
   "source": [
    "# plt.scatter(df.linecenter, df.S, s=0.5)\n",
    "# plt.show();"
   ]
  },
  {
   "cell_type": "markdown",
   "id": "b3ff0bda-b038-4ee5-b8ce-56cedf698bf0",
   "metadata": {
    "id": "06e08261-e0f6-49d9-a6e9-f4a2053042cd"
   },
   "source": [
    "### 4.2 Get required range"
   ]
  },
  {
   "cell_type": "code",
   "execution_count": 19,
   "id": "9fa4cd34-8f2b-4c31-820c-9b07962c0aee",
   "metadata": {},
   "outputs": [
    {
     "data": {
      "text/plain": [
       "26849"
      ]
     },
     "execution_count": 19,
     "metadata": {},
     "output_type": "execute_result"
    }
   ],
   "source": [
    "wavenum_mask = (\n",
    "    (line_data['linecenter'] >= left_limit - effect_limit) & \n",
    "    (line_data['linecenter'] <= right_limit + effect_limit)\n",
    ")\n",
    "\n",
    "iso_mask = line_data['I'] == 1\n",
    "\n",
    "mask = np.where(iso_mask * wavenum_mask == 1)[0]\n",
    "\n",
    "m = len(mask)\n",
    "m"
   ]
  },
  {
   "cell_type": "code",
   "execution_count": 20,
   "id": "fa1970f6-7c32-4f6c-91f0-418d8f04cf93",
   "metadata": {
    "id": "f11549c5-a219-4faf-b2ae-92e982e4a55b"
   },
   "outputs": [],
   "source": [
    "iso = line_data['I'][mask]\n",
    "\n",
    "E = line_data['Epp'][mask]\n",
    "intensity_ref = line_data['S'][mask]\n",
    "\n",
    "\n",
    "pshift = line_data['delta'][mask]\n",
    "n = line_data['N'][mask]\n",
    "\n",
    "gamma_self = np.array(line_data['gamma-self'])[mask]\n",
    "gamma_air = line_data['gamma-air'][mask] * 1.5 "
   ]
  },
  {
   "cell_type": "markdown",
   "id": "aef220a2-80b7-4cf0-9927-ae8c7ed981f5",
   "metadata": {},
   "source": [
    "### 4.3 Molar mass"
   ]
  },
  {
   "cell_type": "code",
   "execution_count": 21,
   "id": "574c6027-cd9f-4e5c-aa9c-4e45aeb9e69b",
   "metadata": {
    "colab": {
     "base_uri": "https://localhost:8080/"
    },
    "id": "sg8uG-igvBIN",
    "outputId": "1141b43d-f1be-47d0-a06b-7b5f5d0f7796"
   },
   "outputs": [
    {
     "data": {
      "text/plain": [
       "array([1])"
      ]
     },
     "execution_count": 21,
     "metadata": {},
     "output_type": "execute_result"
    }
   ],
   "source": [
    "np.unique(iso)"
   ]
  },
  {
   "cell_type": "code",
   "execution_count": 22,
   "id": "3035b74b-e095-44c3-bd9a-6f7f7d3833b0",
   "metadata": {
    "id": "0d8a3bf1-1547-4925-9f68-85696a653e05"
   },
   "outputs": [],
   "source": [
    "molar_mass_reference = np.array([18.010565, 20.014811, 19.014780, 19.016740,\n",
    "                                 21.020985, 20.020956, 20.022915])\n",
    "\n",
    "mol_mass = []\n",
    "for j in range(m):\n",
    "    mol_mass.append(molar_mass_reference[iso[j]-1])"
   ]
  },
  {
   "attachments": {
    "4051eaf6-f206-4a9a-8ee8-bc514519feeb.jpg": {
     "image/jpeg": "[encoded data removed]"
    }
   },
   "cell_type": "markdown",
   "id": "aef487fc-1bd4-4aeb-8cbc-3c01a8121f69",
   "metadata": {},
   "source": [
    "![photo_2024-11-26_19-18-12.jpg](attachment:4051eaf6-f206-4a9a-8ee8-bc514519feeb.jpg)"
   ]
  },
  {
   "attachments": {
    "74f7447e-f2fb-4fa7-a994-d5c1aa412c59.jpg": {
     "image/jpeg": "[encoded data removed]"
    }
   },
   "cell_type": "markdown",
   "id": "a15e683d-ee18-4676-a3ee-d79e83d74e57",
   "metadata": {},
   "source": [
    "![photo_2024-11-26_19-18-33.jpg](attachment:74f7447e-f2fb-4fa7-a994-d5c1aa412c59.jpg)"
   ]
  },
  {
   "cell_type": "code",
   "execution_count": 23,
   "id": "e6c8de76-4ea2-4fc9-8f6a-7cb0d61f1adc",
   "metadata": {},
   "outputs": [],
   "source": [
    "delta_nu = np.absolute(w - np.array(line_data['linecenter'])[mask][20000])\n",
    "\n",
    "chi_f = 6.65 * np.exp(-delta_nu**2/75**2)\n",
    "\n",
    "chi = np.ones(len(w))\n",
    "\n",
    "mask1 = delta_nu < cutoff_cont_h2o\n",
    "mask2 = delta_nu >= cutoff_cont_h2o\n",
    "\n",
    "chi[mask1] = 1 - (1 - chi_f[mask1])*delta_nu[mask1]**2/25**2\n",
    "chi[mask2] = chi_f[mask2]"
   ]
  },
  {
   "cell_type": "code",
   "execution_count": 24,
   "id": "29165d37-930f-49f7-8f33-9e7efc3d7f69",
   "metadata": {},
   "outputs": [
    {
     "data": {
      "image/png": "[encoded data removed]",
      "text/plain": [
       "<Figure size 640x480 with 1 Axes>"
      ]
     },
     "metadata": {},
     "output_type": "display_data"
    }
   ],
   "source": [
    "plt.plot(delta_nu, chi)\n",
    "# plt.xlim([-200,200])\n",
    "plt.xscale('log')\n",
    "# plt.yscale('log')"
   ]
  },
  {
   "cell_type": "markdown",
   "id": "48ec8f33-1c3d-449f-8908-61906efbac7a",
   "metadata": {
    "id": "5e68a20a-6f70-4b31-bcea-3848370d2eb9"
   },
   "source": [
    "### 4.4 Calculating cross-sections"
   ]
  },
  {
   "cell_type": "code",
   "execution_count": 24,
   "id": "7b8bdcd0-28f5-45b2-8348-114f7dcbb598",
   "metadata": {},
   "outputs": [
    {
     "name": "stderr",
     "output_type": "stream",
     "text": [
      "100%|████████████████████████████████████████████████████████████████████████████████| 104/104 [52:03<00:00, 30.03s/it]\n"
     ]
    }
   ],
   "source": [
    "spectrum_h2o = []\n",
    "\n",
    "#Loop for viraprofile of temperature and pressure\n",
    "for l in tqdm(range(len(atm))):\n",
    "    nu = np.array(line_data['linecenter'])[mask]\n",
    "    p_self = atm[l, 0]\n",
    "    T = atm[l, 3]\n",
    "    p = atm[l, 0]\n",
    "\n",
    "    wD = doppler_fwhm(nu, T, mol_mass) #calculating half-width at half-maximum for doppler\n",
    "    wL = lorenz_fwhm(p, T, 296, gamma_self, gamma_air, p_self, n) #for Lorentz\n",
    "\n",
    "    #Calculating the spectrum of cross-sections\n",
    "    sigma = np.zeros(w.size)\n",
    "    \n",
    "    for k in np.arange(0,m):\n",
    "        #Calculating line strength\n",
    "        Q = partitionSum(2, iso[k], T_ref_h2o) #uses hapi module to calculate partition sums\n",
    "        Qt = partitionSum(2, iso[k], T)\n",
    "        intensity = intensity_ref[k]*Q/Qt*(np.exp(-RADCN2*E[k]/T)/np.exp(-RADCN2*E[k]/T_ref_h2o))*(1 - np.exp(-RADCN2*nu[k]/T))/(1 - np.exp(-RADCN2*nu[k]/T_ref_h2o))\n",
    "        ## ======================================================\n",
    "    \n",
    "        nu[k] = nu[k] + pshift[k] * p\n",
    "        \n",
    "        delta_nu = np.absolute(w - nu[k])\n",
    "\n",
    "        #chi facotor\n",
    "        \n",
    "        chi = np.ones(len(w))\n",
    "        \n",
    "        if PROFILE_H2O == 'foreign_cont':\n",
    "            \n",
    "            chi_f = 6.65 * np.exp(-delta_nu**2/75**2)\n",
    "            \n",
    "            mask1 = delta_nu < cutoff_cont_h2o\n",
    "            mask2 = delta_nu >= cutoff_cont_h2o\n",
    "            \n",
    "            chi[mask1] = 1 - (1 - chi_f[mask1])*delta_nu[mask1]**2/25**2\n",
    "            chi[mask2] = chi_f[mask2]\n",
    "        \n",
    "        # Применение cutoff\n",
    "        \n",
    "        chi[delta_nu >= cutoff_h2o] = 0\n",
    "\n",
    "        #Calculating voight profiles with Humlıcek approximation\n",
    "\n",
    "        y = wL[k] / wD[k]\n",
    "        x = (w-nu[k]) / wD[k]\n",
    "\n",
    "        scale = 1/(wD[k]*np.sqrt(np.pi))\n",
    "\n",
    "        profile = compute_profile(x, y)*scale\n",
    "        profile = profile * chi\n",
    "\n",
    "        # Calculating cross_sections\n",
    "        cross_section = profile*intensity\n",
    "        cross_section = cross_section.real\n",
    "\n",
    "        sigma += cross_section\n",
    "\n",
    "    spectrum_h2o.append(sigma)"
   ]
  },
  {
   "cell_type": "code",
   "execution_count": 25,
   "id": "6653becb-0c3b-4886-b015-f6b0362e2a39",
   "metadata": {},
   "outputs": [],
   "source": [
    "spectrum_h2o = np.array(spectrum_h2o)\n",
    "output = np.vstack((w, spectrum_h2o))\n",
    "np.savetxt(OUTPUT_PATH_ABS + f'abs_cross_section_H2O_{DATABASE_H2O}_{PROFILE_H2O}_{step_txt}_{left_limit}_{right_limit}_{len(atm)}.csv', output, delimiter=',')"
   ]
  },
  {
   "cell_type": "code",
   "execution_count": 25,
   "id": "c0c63cad-66b9-4df4-adf0-90b158977891",
   "metadata": {},
   "outputs": [
    {
     "name": "stderr",
     "output_type": "stream",
     "text": [
      "100%|████████████████████████████████████████████████████████████████████████████████| 104/104 [01:38<00:00,  1.05it/s]\n"
     ]
    }
   ],
   "source": [
    "cont_spectrum_h2o = []\n",
    "\n",
    "#Loop for viraprofile of temperature and pressure\n",
    "for l in tqdm(range(len(atm))):\n",
    "    nu = np.array(line_data['linecenter'])[mask]\n",
    "    T = atm[l, 3]\n",
    "    p = atm[l, 0]\n",
    "\n",
    "    self_absco, for_absco = mt_ckd_h2o_absco(p, \n",
    "                                             T, \n",
    "                                             vmrh2o, \n",
    "                                             left_limit - effect_limit, \n",
    "                                             right_limit + effect_limit,\n",
    "                                             step, \n",
    "                                             frgnx='1', \n",
    "                                             radflag=True, \n",
    "                                             dat=continuum_data)\n",
    "\n",
    "    sum_absco = self_absco + for_absco\n",
    "    \n",
    "    #Calculating the spectrum of cross-sections\n",
    "    cont_sigma = np.zeros(w.size)\n",
    "    \n",
    "    for k in np.arange(0,m):\n",
    "        nu[k] = nu[k] + pshift[k] * p\n",
    "        \n",
    "        delta_nu = np.absolute(w - nu[k])\n",
    "\n",
    "        mask1 = delta_nu < cutoff_cont_h2o\n",
    "\n",
    "        cont_sigma[mask1] += sum_absco[mask1]\n",
    "\n",
    "    cont_spectrum_h2o.append(cont_sigma)\n",
    "\n",
    "cont_spectrum_h2o = np.array(cont_spectrum_h2o)"
   ]
  },
  {
   "cell_type": "markdown",
   "id": "d8cd60cd-7eae-4a6e-b637-2a7a021be15f",
   "metadata": {},
   "source": [
    "## 4. HDO cross-sections"
   ]
  },
  {
   "cell_type": "markdown",
   "id": "c1cd3bf6-8b82-4ab3-a3b9-8c7294c7d5f4",
   "metadata": {},
   "source": [
    "### 4.1 Load spectral lines"
   ]
  },
  {
   "cell_type": "code",
   "execution_count": 26,
   "id": "891269f0-cd39-42ba-bdd9-a178755b8f0c",
   "metadata": {},
   "outputs": [
    {
     "name": "stdout",
     "output_type": "stream",
     "text": [
      "Reading \"databases/6689a056.par\" ...\n"
     ]
    },
    {
     "data": {
      "text/plain": [
       "(486258, 19)"
      ]
     },
     "execution_count": 26,
     "metadata": {},
     "output_type": "execute_result"
    }
   ],
   "source": [
    "if DATABASE_HDO == 'hitran':\n",
    "    line_data = read_hitran2012(LINES_PATH + FILENAME_HDO)\n",
    "elif DATABASE_HDO == 'ames':\n",
    "    line_data = read_ames(LINES_PATH + FILENAME_HDO)\n",
    "elif DATABASE_HDO == 'bezard':\n",
    "    line_data = read_bezard(LINES_PATH + FILENAME_HDO)\n",
    "\n",
    "df = pd.DataFrame(line_data)\n",
    "df.shape"
   ]
  },
  {
   "cell_type": "code",
   "execution_count": 27,
   "id": "3c597d4e-619f-4be6-afca-78b1428271d4",
   "metadata": {
    "colab": {
     "base_uri": "https://localhost:8080/",
     "height": 445
    },
    "id": "PVwDlBa3qruZ",
    "outputId": "aaf09c44-7508-4112-9361-8c8ab75bc937"
   },
   "outputs": [],
   "source": [
    "# plt.scatter(df.linecenter, df.S, s=0.5)\n",
    "# plt.show();"
   ]
  },
  {
   "cell_type": "markdown",
   "id": "cdce1819-f2a9-434e-afb6-42e15ee25764",
   "metadata": {
    "id": "06e08261-e0f6-49d9-a6e9-f4a2053042cd"
   },
   "source": [
    "### 4.2 Get required range"
   ]
  },
  {
   "cell_type": "code",
   "execution_count": 28,
   "id": "787ab118-711c-4d49-988f-1831fe54be34",
   "metadata": {},
   "outputs": [
    {
     "data": {
      "text/plain": [
       "4119"
      ]
     },
     "execution_count": 28,
     "metadata": {},
     "output_type": "execute_result"
    }
   ],
   "source": [
    "wavenum_mask = (\n",
    "    (line_data['linecenter'] >= left_limit - effect_limit) & \n",
    "    (line_data['linecenter'] <= right_limit + effect_limit)\n",
    ")\n",
    "\n",
    "iso_mask = line_data['I'] == 4\n",
    "\n",
    "mask = np.where(iso_mask * wavenum_mask == 1)[0]\n",
    "\n",
    "m = len(mask)\n",
    "m"
   ]
  },
  {
   "cell_type": "code",
   "execution_count": 29,
   "id": "5a16a781-2d12-4758-8f3f-1d4b8e493ef9",
   "metadata": {
    "id": "f11549c5-a219-4faf-b2ae-92e982e4a55b"
   },
   "outputs": [],
   "source": [
    "E = line_data['Epp'][mask]\n",
    "intensity_ref = line_data['S'][mask]\n",
    "iso = line_data['I'][mask]\n",
    "\n",
    "pshift = line_data['delta'][mask]\n",
    "n = line_data['N'][mask]\n",
    "\n",
    "gamma_self = np.array(line_data['gamma-self'])[mask]\n",
    "gamma_air = line_data['gamma-air'][mask] * 1.5 "
   ]
  },
  {
   "cell_type": "markdown",
   "id": "9e6b63ea-3311-4b75-a71c-7bb030eda351",
   "metadata": {},
   "source": [
    "### 4.3 Molar mass"
   ]
  },
  {
   "cell_type": "code",
   "execution_count": 30,
   "id": "df2d9eab-34cd-407f-b14e-dd65aac166de",
   "metadata": {
    "colab": {
     "base_uri": "https://localhost:8080/"
    },
    "id": "sg8uG-igvBIN",
    "outputId": "1141b43d-f1be-47d0-a06b-7b5f5d0f7796"
   },
   "outputs": [
    {
     "data": {
      "text/plain": [
       "array([4])"
      ]
     },
     "execution_count": 30,
     "metadata": {},
     "output_type": "execute_result"
    }
   ],
   "source": [
    "np.unique(iso)"
   ]
  },
  {
   "cell_type": "code",
   "execution_count": 31,
   "id": "9adfc328-1381-4f67-8fe9-4d12c6320019",
   "metadata": {
    "id": "0d8a3bf1-1547-4925-9f68-85696a653e05"
   },
   "outputs": [],
   "source": [
    "molar_mass_reference = np.array([18.010565, 20.014811, 19.014780, 19.016740,\n",
    "                                 21.020985, 20.020956, 20.022915])\n",
    "\n",
    "mol_mass = []\n",
    "for j in range(m):\n",
    "    mol_mass.append(molar_mass_reference[iso[j]-1])"
   ]
  },
  {
   "cell_type": "markdown",
   "id": "c5058aa6-2f87-4874-ab7d-b362af29fc81",
   "metadata": {
    "id": "5e68a20a-6f70-4b31-bcea-3848370d2eb9"
   },
   "source": [
    "### 4.4 Calculating cross-sections"
   ]
  },
  {
   "cell_type": "code",
   "execution_count": 33,
   "id": "917ae442-a64b-4b6f-91a4-09f02e976143",
   "metadata": {},
   "outputs": [
    {
     "name": "stderr",
     "output_type": "stream",
     "text": [
      "100%|████████████████████████████████████████████████████████████████████████████████| 104/104 [07:41<00:00,  4.44s/it]\n"
     ]
    }
   ],
   "source": [
    "spectrum_hdo = []\n",
    "\n",
    "#Loop for viraprofile of temperature and pressure\n",
    "for l in tqdm(range(len(atm))):\n",
    "    nu = np.array(line_data['linecenter'])[mask]\n",
    "    p_self = atm[l, 0]\n",
    "    T = atm[l, 3]\n",
    "    p = atm[l, 0]\n",
    "\n",
    "    wD = doppler_fwhm(nu, T, mol_mass) #calculating half-width at half-maximum for doppler\n",
    "    wL = lorenz_fwhm(p, T, 296, gamma_self, gamma_air, p_self, n) #for Lorentz\n",
    "\n",
    "    #Calculating the spectrum of cross-sections\n",
    "    sigma = np.zeros(w.size)\n",
    "    for k in np.arange(0,m):\n",
    "        #Calculating line strength\n",
    "        Q = partitionSum(2, iso[k], T_ref_h2o) #uses hapi module to calculate partition sums\n",
    "        Qt = partitionSum(2, iso[k], T)\n",
    "        intensity = intensity_ref[k]*Q/Qt*(np.exp(-RADCN2*E[k]/T)/np.exp(-RADCN2*E[k]/T_ref_h2o))*(1 - np.exp(-RADCN2*nu[k]/T))/(1 - np.exp(-RADCN2*nu[k]/T_ref_h2o))\n",
    "        ## ======================================================\n",
    "    \n",
    "        nu[k] = nu[k] + pshift[k] * p\n",
    "\n",
    "        delta_nu = np.absolute(w - nu[k])\n",
    "        \n",
    "        #chi facotor\n",
    "        \n",
    "        chi = np.ones(len(w))\n",
    "        \n",
    "        if PROFILE_H2O == 'foreign_cont':\n",
    "\n",
    "            chi_f = 6.65 * np.exp(-delta_nu**2/75**2)\n",
    "            \n",
    "            mask1 = delta_nu < cutoff_cont_h2o\n",
    "            mask2 = delta_nu >= cutoff_cont_h2o\n",
    "            \n",
    "            chi[mask1] = 1 - (1 - chi_f[mask1])*delta_nu[mask1]**2/25**2\n",
    "            chi[mask2] = chi_f[mask2]\n",
    "\n",
    "        # Применение cutoff\n",
    "        \n",
    "        chi[delta_nu >= cutoff_h2o] = 0\n",
    "\n",
    "        #Calculating voight profiles with Humlıcek approximation\n",
    "\n",
    "        y = wL[k] / wD[k]\n",
    "        x = (w-nu[k]) / wD[k]\n",
    "\n",
    "        scale = 1/(wD[k]*np.sqrt(np.pi))\n",
    "\n",
    "        profile = compute_profile(x, y)*scale\n",
    "        profile = profile * chi\n",
    "\n",
    "        # Calculating cross_sections\n",
    "        cross_section = profile*intensity\n",
    "        cross_section = cross_section.real\n",
    "\n",
    "        sigma += cross_section\n",
    "\n",
    "    spectrum_hdo.append(sigma)"
   ]
  },
  {
   "cell_type": "code",
   "execution_count": 34,
   "id": "a8016f08-240d-4238-a99f-06cf952d3b0d",
   "metadata": {},
   "outputs": [],
   "source": [
    "spectrum_hdo = np.array(spectrum_hdo)\n",
    "output = np.vstack((w, spectrum_hdo))\n",
    "np.savetxt(OUTPUT_PATH_ABS + f'abs_cross_section_HDO_{DATABASE_H2O}_{PROFILE_H2O}_{step_txt}_{left_limit}_{right_limit}_{len(atm)}.csv', output, delimiter=',')"
   ]
  },
  {
   "cell_type": "code",
   "execution_count": 35,
   "id": "62b4b881-75a3-47ea-9e09-3e397d247e65",
   "metadata": {},
   "outputs": [
    {
     "name": "stderr",
     "output_type": "stream",
     "text": [
      "100%|████████████████████████████████████████████████████████████████████████████████| 104/104 [00:15<00:00,  6.59it/s]\n"
     ]
    }
   ],
   "source": [
    "cont_spectrum_hdo = []\n",
    "\n",
    "#Loop for viraprofile of temperature and pressure\n",
    "for l in tqdm(range(len(atm))):\n",
    "    nu = np.array(line_data['linecenter'])[mask]\n",
    "    T = atm[l, 3]\n",
    "    p = atm[l, 0]\n",
    "\n",
    "    self_absco, for_absco = mt_ckd_h2o_absco(p, \n",
    "                                             T, \n",
    "                                             vmrhdo, \n",
    "                                             left_limit - effect_limit, \n",
    "                                             right_limit + effect_limit,\n",
    "                                             step, \n",
    "                                             frgnx='1', \n",
    "                                             radflag=True, \n",
    "                                             dat=continuum_data)\n",
    "\n",
    "    sum_absco = self_absco + for_absco\n",
    "    \n",
    "    #Calculating the spectrum of cross-sections\n",
    "    cont_sigma = np.zeros(w.size)\n",
    "    \n",
    "    for k in np.arange(0,m):\n",
    "        nu[k] = nu[k] + pshift[k] * p\n",
    "        \n",
    "        delta_nu = np.absolute(w - nu[k])\n",
    "\n",
    "        mask1 = delta_nu < cutoff_cont_h2o\n",
    "\n",
    "        cont_sigma[mask1] += sum_absco[mask1]\n",
    "\n",
    "    cont_spectrum_hdo.append(cont_sigma)\n",
    "\n",
    "cont_spectrum_hdo = np.array(cont_spectrum_hdo)"
   ]
  },
  {
   "cell_type": "markdown",
   "id": "aa21e743-516f-4e04-a7e3-ddf00d09d85f",
   "metadata": {
    "id": "aa21e743-516f-4e04-a7e3-ddf00d09d85f"
   },
   "source": [
    "## 5. Calculating extinction"
   ]
  },
  {
   "cell_type": "code",
   "execution_count": 36,
   "id": "5b53d71f-2ad2-4a81-9bc2-62fce46c97ff",
   "metadata": {
    "colab": {
     "base_uri": "https://localhost:8080/"
    },
    "id": "5b53d71f-2ad2-4a81-9bc2-62fce46c97ff",
    "outputId": "4d76775e-22ce-4f1b-b7fc-54e3e6fa5574"
   },
   "outputs": [],
   "source": [
    "# spectrum_co2 = np.array(spectrum_co2)\n",
    "# spectrum_h2o = np.array(spectrum_h2o)\n",
    "# spectrum_hdo = np.array(spectrum_hdo)\n",
    "\n",
    "gas_abs_data_co2 = pd.read_csv(OUTPUT_PATH_ABS + f'abs_cross_section_CO2_{DATABASE_CO2}_{PROFILE_CO2}_{step_txt}_{left_limit}_{right_limit}_{len(atm)}.csv', header=None)\n",
    "spectrum_co2 = np.array(gas_abs_data_co2)[1:]\n",
    "\n",
    "gas_abs_data_h2o = pd.read_csv(OUTPUT_PATH_ABS + f'abs_cross_section_H2O_{DATABASE_H2O}_{PROFILE_H2O}_{step_txt}_{left_limit}_{right_limit}_{len(atm)}.csv', header=None)\n",
    "spectrum_h2o = np.array(gas_abs_data_h2o)[1:]\n",
    "\n",
    "gas_abs_data_hdo = pd.read_csv(OUTPUT_PATH_ABS + f'abs_cross_section_HDO_{DATABASE_H2O}_{PROFILE_H2O}_{step_txt}_{left_limit}_{right_limit}_{len(atm)}.csv', header=None)\n",
    "spectrum_hdo = np.array(gas_abs_data_hdo)[1:]\n",
    "\n",
    "spectrum = spectrum_co2 * vmrco2 + spectrum_h2o * vmrh2o + spectrum_hdo * vmrhdo\n",
    "\n",
    "if PROFILE_H2O == 'foreign_cont_MTCKD':\n",
    "    spectrum += cont_spectrum_hdo + cont_spectrum_h2o\n",
    "\n",
    "ext_profiles = []\n",
    "\n",
    "for z in range(len(atm)):\n",
    "    ep = spectrum[z]*atm[z, 2]*1e5\n",
    "    ext_profiles.append(ep)\n",
    "\n",
    "ext_profiles = np.array(ext_profiles)"
   ]
  },
  {
   "cell_type": "code",
   "execution_count": 37,
   "id": "e8aa9ac9-06ae-4bfd-a0bc-fc9e40f77b9c",
   "metadata": {},
   "outputs": [
    {
     "data": {
      "text/plain": [
       "'absorbtion_cross_sections/abs_cross_section_H2O_hitran_foreign_cont_MTCKD_005_9600_11000_104.csv'"
      ]
     },
     "execution_count": 37,
     "metadata": {},
     "output_type": "execute_result"
    }
   ],
   "source": [
    "OUTPUT_PATH_ABS + f'abs_cross_section_H2O_{DATABASE_H2O}_{PROFILE_H2O}_{step_txt}_{left_limit}_{right_limit}_{len(atm)}.csv'"
   ]
  },
  {
   "cell_type": "code",
   "execution_count": 40,
   "id": "bf6af9fc-089e-4859-9eeb-334c54ee6114",
   "metadata": {},
   "outputs": [
    {
     "data": {
      "text/plain": [
       "[<matplotlib.lines.Line2D at 0x20c20b3c7d0>]"
      ]
     },
     "execution_count": 40,
     "metadata": {},
     "output_type": "execute_result"
    },
    {
     "data": {
      "image/png": "[encoded data removed]",
      "text/plain": [
       "<Figure size 640x480 with 1 Axes>"
      ]
     },
     "metadata": {},
     "output_type": "display_data"
    }
   ],
   "source": [
    "plt.plot(np.array(gas_abs_data_h2o)[0], spectrum[0])"
   ]
  },
  {
   "cell_type": "markdown",
   "id": "00f71d63-a27c-4c36-b64a-85e8a81bf6a5",
   "metadata": {
    "id": "00f71d63-a27c-4c36-b64a-85e8a81bf6a5"
   },
   "source": [
    "## 6. Exporting to file"
   ]
  },
  {
   "cell_type": "code",
   "execution_count": 41,
   "id": "4107f810-7ba3-4987-8f02-2178fd85cd5b",
   "metadata": {},
   "outputs": [],
   "source": [
    "w_range_start = np.argmin(np.abs(w - left_limit))\n",
    "w_range_end = np.argmin(np.abs(w - right_limit)) + 1\n",
    "\n",
    "w_cut = w[w_range_start:w_range_end]\n",
    "ext_profiles_cut = ext_profiles[:,w_range_start:w_range_end]  #selecting the right range of values"
   ]
  },
  {
   "cell_type": "code",
   "execution_count": 42,
   "id": "62cad43e-bd05-4e30-baec-6d8edfa5c40c",
   "metadata": {},
   "outputs": [],
   "source": [
    "output = np.vstack((w_cut, ext_profiles_cut))"
   ]
  },
  {
   "cell_type": "code",
   "execution_count": 43,
   "id": "05045631-32e3-401b-965a-effa3a89a9f6",
   "metadata": {},
   "outputs": [
    {
     "data": {
      "text/plain": [
       "(105, 28001)"
      ]
     },
     "execution_count": 43,
     "metadata": {},
     "output_type": "execute_result"
    }
   ],
   "source": [
    "output.shape"
   ]
  },
  {
   "cell_type": "code",
   "execution_count": 44,
   "id": "6378e026-bc15-4038-ba9e-2d51e8053784",
   "metadata": {},
   "outputs": [],
   "source": [
    "# plt.plot(w, ext_profiles[0])"
   ]
  },
  {
   "cell_type": "code",
   "execution_count": 45,
   "id": "0bafeac8-e299-479a-8174-12b3dbd7a3c5",
   "metadata": {},
   "outputs": [],
   "source": [
    "# plt.yscale('log')\n",
    "# plt.plot(w, ext_profiles[0, :])"
   ]
  },
  {
   "cell_type": "code",
   "execution_count": 46,
   "id": "FUhQPmOIbGLg",
   "metadata": {
    "colab": {
     "base_uri": "https://localhost:8080/"
    },
    "id": "FUhQPmOIbGLg",
    "outputId": "b24f38b4-6d28-4c25-d022-39563dc333ca"
   },
   "outputs": [
    {
     "data": {
      "text/plain": [
       "38001"
      ]
     },
     "execution_count": 46,
     "metadata": {},
     "output_type": "execute_result"
    }
   ],
   "source": [
    "len(w)"
   ]
  },
  {
   "cell_type": "code",
   "execution_count": 47,
   "id": "-Ahoi7cWbDUF",
   "metadata": {
    "colab": {
     "base_uri": "https://localhost:8080/"
    },
    "id": "-Ahoi7cWbDUF",
    "outputId": "c038e150-fc35-4fa6-b7bb-498256086d66"
   },
   "outputs": [
    {
     "data": {
      "text/plain": [
       "28001"
      ]
     },
     "execution_count": 47,
     "metadata": {},
     "output_type": "execute_result"
    }
   ],
   "source": [
    "len(w_cut)"
   ]
  },
  {
   "cell_type": "code",
   "execution_count": 48,
   "id": "de6ab130-3b0b-4798-b5c4-76ddbd516c5f",
   "metadata": {},
   "outputs": [
    {
     "name": "stdout",
     "output_type": "stream",
     "text": [
      "gas_ext/gas_ext_CO2_hot_ames_bezard_H2O_HDO_hitran_foreign_cont_MTCKD_005_9600_11000_104.csv\n"
     ]
    }
   ],
   "source": [
    "print(OUTPUT_PATH + f'gas_ext_CO2_{DATABASE_CO2}_{PROFILE_CO2}_H2O_HDO_{DATABASE_H2O}_{PROFILE_H2O}_{step_txt}_{left_limit}_{right_limit}_{len(atm)}.csv')"
   ]
  },
  {
   "cell_type": "code",
   "execution_count": 49,
   "id": "5e699c22-b911-4f22-aa4d-eb12bf2e1924",
   "metadata": {},
   "outputs": [],
   "source": [
    "np.savetxt(OUTPUT_PATH + f'gas_ext_CO2_{DATABASE_CO2}_{PROFILE_CO2}_H2O_HDO_{DATABASE_H2O}_{PROFILE_H2O}_{step_txt}_{left_limit}_{right_limit}_{len(atm)}.csv', output, delimiter=',')"
   ]
  },
  {
   "cell_type": "code",
   "execution_count": null,
   "id": "b1d6d1b5-d0ae-488c-b45d-53b18e50fba4",
   "metadata": {},
   "outputs": [],
   "source": []
  }
 ],
 "metadata": {
  "colab": {
   "provenance": []
  },
  "kernelspec": {
   "display_name": "Python 3.11.9",
   "language": "python",
   "name": "py311"
  },
  "language_info": {
   "codemirror_mode": {
    "name": "ipython",
    "version": 3
   },
   "file_extension": ".py",
   "mimetype": "text/x-python",
   "name": "python",
   "nbconvert_exporter": "python",
   "pygments_lexer": "ipython3",
   "version": "3.11.9"
  },
  "widgets": {
   "application/vnd.jupyter.widget-state+json": {
    "0cd30897394440e4868355f4f9a398e9": {
     "model_module": "@jupyter-widgets/base",
     "model_module_version": "1.2.0",
     "model_name": "LayoutModel",
     "state": {
      "_model_module": "@jupyter-widgets/base",
      "_model_module_version": "1.2.0",
      "_model_name": "LayoutModel",
      "_view_count": null,
      "_view_module": "@jupyter-widgets/base",
      "_view_module_version": "1.2.0",
      "_view_name": "LayoutView",
      "align_content": null,
      "align_items": null,
      "align_self": null,
      "border": null,
      "bottom": null,
      "display": null,
      "flex": null,
      "flex_flow": null,
      "grid_area": null,
      "grid_auto_columns": null,
      "grid_auto_flow": null,
      "grid_auto_rows": null,
      "grid_column": null,
      "grid_gap": null,
      "grid_row": null,
      "grid_template_areas": null,
      "grid_template_columns": null,
      "grid_template_rows": null,
      "height": null,
      "justify_content": null,
      "justify_items": null,
      "left": null,
      "margin": null,
      "max_height": null,
      "max_width": null,
      "min_height": null,
      "min_width": null,
      "object_fit": null,
      "object_position": null,
      "order": null,
      "overflow": null,
      "overflow_x": null,
      "overflow_y": null,
      "padding": null,
      "right": null,
      "top": null,
      "visibility": null,
      "width": null
     }
    },
    "0f95c7a1e5a947c0824cb4640516a178": {
     "model_module": "@jupyter-widgets/base",
     "model_module_version": "1.2.0",
     "model_name": "LayoutModel",
     "state": {
      "_model_module": "@jupyter-widgets/base",
      "_model_module_version": "1.2.0",
      "_model_name": "LayoutModel",
      "_view_count": null,
      "_view_module": "@jupyter-widgets/base",
      "_view_module_version": "1.2.0",
      "_view_name": "LayoutView",
      "align_content": null,
      "align_items": null,
      "align_self": null,
      "border": null,
      "bottom": null,
      "display": null,
      "flex": null,
      "flex_flow": null,
      "grid_area": null,
      "grid_auto_columns": null,
      "grid_auto_flow": null,
      "grid_auto_rows": null,
      "grid_column": null,
      "grid_gap": null,
      "grid_row": null,
      "grid_template_areas": null,
      "grid_template_columns": null,
      "grid_template_rows": null,
      "height": null,
      "justify_content": null,
      "justify_items": null,
      "left": null,
      "margin": null,
      "max_height": null,
      "max_width": null,
      "min_height": null,
      "min_width": null,
      "object_fit": null,
      "object_position": null,
      "order": null,
      "overflow": null,
      "overflow_x": null,
      "overflow_y": null,
      "padding": null,
      "right": null,
      "top": null,
      "visibility": null,
      "width": null
     }
    },
    "11dbf9e7daa74104ab62491e24b44c68": {
     "model_module": "jupyter-matplotlib",
     "model_module_version": "^0.11",
     "model_name": "MPLCanvasModel",
     "state": {
      "_cursor": "default",
      "_data_url": "data:image/png;base64,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",
      "_dom_classes": [],
      "_figure_label": "Figure 1",
      "_image_mode": "full",
      "_message": "",
      "_model_module": "jupyter-matplotlib",
      "_model_module_version": "^0.11",
      "_model_name": "MPLCanvasModel",
      "_rubberband_height": 0,
      "_rubberband_width": 0,
      "_rubberband_x": 0,
      "_rubberband_y": 0,
      "_size": [
       640,
       480
      ],
      "_view_count": null,
      "_view_module": "jupyter-matplotlib",
      "_view_module_version": "^0.11",
      "_view_name": "MPLCanvasView",
      "capture_scroll": false,
      "footer_visible": true,
      "header_visible": true,
      "layout": "IPY_MODEL_0cd30897394440e4868355f4f9a398e9",
      "pan_zoom_throttle": 33,
      "resizable": true,
      "toolbar": "IPY_MODEL_9886e0b1406d4ecb83be3ca43f9b033c",
      "toolbar_position": "left",
      "toolbar_visible": "fade-in-fade-out"
     }
    },
    "247d37153a6c4b3299aa1a00b4e677c3": {
     "model_module": "@jupyter-widgets/base",
     "model_module_version": "1.2.0",
     "model_name": "LayoutModel",
     "state": {
      "_model_module": "@jupyter-widgets/base",
      "_model_module_version": "1.2.0",
      "_model_name": "LayoutModel",
      "_view_count": null,
      "_view_module": "@jupyter-widgets/base",
      "_view_module_version": "1.2.0",
      "_view_name": "LayoutView",
      "align_content": null,
      "align_items": null,
      "align_self": null,
      "border": null,
      "bottom": null,
      "display": null,
      "flex": null,
      "flex_flow": null,
      "grid_area": null,
      "grid_auto_columns": null,
      "grid_auto_flow": null,
      "grid_auto_rows": null,
      "grid_column": null,
      "grid_gap": null,
      "grid_row": null,
      "grid_template_areas": null,
      "grid_template_columns": null,
      "grid_template_rows": null,
      "height": null,
      "justify_content": null,
      "justify_items": null,
      "left": null,
      "margin": null,
      "max_height": null,
      "max_width": null,
      "min_height": null,
      "min_width": null,
      "object_fit": null,
      "object_position": null,
      "order": null,
      "overflow": null,
      "overflow_x": null,
      "overflow_y": null,
      "padding": null,
      "right": null,
      "top": null,
      "visibility": null,
      "width": null
     }
    },
    "27ed294d47204e28becee2b5a90d7471": {
     "model_module": "jupyter-matplotlib",
     "model_module_version": "^0.11",
     "model_name": "MPLCanvasModel",
     "state": {
      "_cursor": "default",
      "_data_url": "data:image/png;base64,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",
      "_dom_classes": [],
      "_figure_label": "Figure 1",
      "_image_mode": "full",
      "_message": "",
      "_model_module": "jupyter-matplotlib",
      "_model_module_version": "^0.11",
      "_model_name": "MPLCanvasModel",
      "_rubberband_height": 0,
      "_rubberband_width": 0,
      "_rubberband_x": 0,
      "_rubberband_y": 0,
      "_size": [
       640,
       480
      ],
      "_view_count": null,
      "_view_module": "jupyter-matplotlib",
      "_view_module_version": "^0.11",
      "_view_name": "MPLCanvasView",
      "capture_scroll": false,
      "footer_visible": true,
      "header_visible": true,
      "layout": "IPY_MODEL_0f95c7a1e5a947c0824cb4640516a178",
      "pan_zoom_throttle": 33,
      "resizable": true,
      "toolbar": "IPY_MODEL_fbf12235144c439b84700234009ac9ba",
      "toolbar_position": "left",
      "toolbar_visible": "fade-in-fade-out"
     }
    },
    "9400720d82014f6ba8961f43518634e0": {
     "model_module": "@jupyter-widgets/base",
     "model_module_version": "1.2.0",
     "model_name": "LayoutModel",
     "state": {
      "_model_module": "@jupyter-widgets/base",
      "_model_module_version": "1.2.0",
      "_model_name": "LayoutModel",
      "_view_count": null,
      "_view_module": "@jupyter-widgets/base",
      "_view_module_version": "1.2.0",
      "_view_name": "LayoutView",
      "align_content": null,
      "align_items": null,
      "align_self": null,
      "border": null,
      "bottom": null,
      "display": null,
      "flex": null,
      "flex_flow": null,
      "grid_area": null,
      "grid_auto_columns": null,
      "grid_auto_flow": null,
      "grid_auto_rows": null,
      "grid_column": null,
      "grid_gap": null,
      "grid_row": null,
      "grid_template_areas": null,
      "grid_template_columns": null,
      "grid_template_rows": null,
      "height": null,
      "justify_content": null,
      "justify_items": null,
      "left": null,
      "margin": null,
      "max_height": null,
      "max_width": null,
      "min_height": null,
      "min_width": null,
      "object_fit": null,
      "object_position": null,
      "order": null,
      "overflow": null,
      "overflow_x": null,
      "overflow_y": null,
      "padding": null,
      "right": null,
      "top": null,
      "visibility": null,
      "width": null
     }
    },
    "9886e0b1406d4ecb83be3ca43f9b033c": {
     "model_module": "jupyter-matplotlib",
     "model_module_version": "^0.11",
     "model_name": "ToolbarModel",
     "state": {
      "_current_action": "",
      "_dom_classes": [],
      "_model_module": "jupyter-matplotlib",
      "_model_module_version": "^0.11",
      "_model_name": "ToolbarModel",
      "_view_count": null,
      "_view_module": "jupyter-matplotlib",
      "_view_module_version": "^0.11",
      "_view_name": "ToolbarView",
      "button_style": "",
      "collapsed": true,
      "layout": "IPY_MODEL_bc9fcad8fe4444918efb2f9cf7969905",
      "orientation": "vertical",
      "toolitems": [
       [
        "Home",
        "Reset original view",
        "home",
        "home"
       ],
       [
        "Back",
        "Back to previous view",
        "arrow-left",
        "back"
       ],
       [
        "Forward",
        "Forward to next view",
        "arrow-right",
        "forward"
       ],
       [
        "Pan",
        "Left button pans, Right button zooms\nx/y fixes axis, CTRL fixes aspect",
        "arrows",
        "pan"
       ],
       [
        "Zoom",
        "Zoom to rectangle\nx/y fixes axis",
        "square-o",
        "zoom"
       ],
       [
        "Download",
        "Download plot",
        "floppy-o",
        "save_figure"
       ]
      ]
     }
    },
    "9cb25cc4cac9480fb9e1e735eb08593e": {
     "model_module": "jupyter-matplotlib",
     "model_module_version": "^0.11",
     "model_name": "ToolbarModel",
     "state": {
      "_current_action": "",
      "_dom_classes": [],
      "_model_module": "jupyter-matplotlib",
      "_model_module_version": "^0.11",
      "_model_name": "ToolbarModel",
      "_view_count": null,
      "_view_module": "jupyter-matplotlib",
      "_view_module_version": "^0.11",
      "_view_name": "ToolbarView",
      "button_style": "",
      "collapsed": true,
      "layout": "IPY_MODEL_d59ec1f1ea474787a406adafeb4209a0",
      "orientation": "vertical",
      "toolitems": [
       [
        "Home",
        "Reset original view",
        "home",
        "home"
       ],
       [
        "Back",
        "Back to previous view",
        "arrow-left",
        "back"
       ],
       [
        "Forward",
        "Forward to next view",
        "arrow-right",
        "forward"
       ],
       [
        "Pan",
        "Left button pans, Right button zooms\nx/y fixes axis, CTRL fixes aspect",
        "arrows",
        "pan"
       ],
       [
        "Zoom",
        "Zoom to rectangle\nx/y fixes axis",
        "square-o",
        "zoom"
       ],
       [
        "Download",
        "Download plot",
        "floppy-o",
        "save_figure"
       ]
      ]
     }
    },
    "a7680879dfc54fa8828e388809cf81d3": {
     "model_module": "jupyter-matplotlib",
     "model_module_version": "^0.11",
     "model_name": "MPLCanvasModel",
     "state": {
      "_cursor": "default",
      "_data_url": "data:image/png;base64,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",
      "_dom_classes": [],
      "_figure_label": "Figure 1",
      "_image_mode": "full",
      "_message": "",
      "_model_module": "jupyter-matplotlib",
      "_model_module_version": "^0.11",
      "_model_name": "MPLCanvasModel",
      "_rubberband_height": 0,
      "_rubberband_width": 0,
      "_rubberband_x": 0,
      "_rubberband_y": 0,
      "_size": [
       640,
       480
      ],
      "_view_count": null,
      "_view_module": "jupyter-matplotlib",
      "_view_module_version": "^0.11",
      "_view_name": "MPLCanvasView",
      "capture_scroll": false,
      "footer_visible": true,
      "header_visible": true,
      "layout": "IPY_MODEL_9400720d82014f6ba8961f43518634e0",
      "pan_zoom_throttle": 33,
      "resizable": true,
      "toolbar": "IPY_MODEL_9cb25cc4cac9480fb9e1e735eb08593e",
      "toolbar_position": "left",
      "toolbar_visible": "fade-in-fade-out"
     }
    },
    "bc9fcad8fe4444918efb2f9cf7969905": {
     "model_module": "@jupyter-widgets/base",
     "model_module_version": "1.2.0",
     "model_name": "LayoutModel",
     "state": {
      "_model_module": "@jupyter-widgets/base",
      "_model_module_version": "1.2.0",
      "_model_name": "LayoutModel",
      "_view_count": null,
      "_view_module": "@jupyter-widgets/base",
      "_view_module_version": "1.2.0",
      "_view_name": "LayoutView",
      "align_content": null,
      "align_items": null,
      "align_self": null,
      "border": null,
      "bottom": null,
      "display": null,
      "flex": null,
      "flex_flow": null,
      "grid_area": null,
      "grid_auto_columns": null,
      "grid_auto_flow": null,
      "grid_auto_rows": null,
      "grid_column": null,
      "grid_gap": null,
      "grid_row": null,
      "grid_template_areas": null,
      "grid_template_columns": null,
      "grid_template_rows": null,
      "height": null,
      "justify_content": null,
      "justify_items": null,
      "left": null,
      "margin": null,
      "max_height": null,
      "max_width": null,
      "min_height": null,
      "min_width": null,
      "object_fit": null,
      "object_position": null,
      "order": null,
      "overflow": null,
      "overflow_x": null,
      "overflow_y": null,
      "padding": null,
      "right": null,
      "top": null,
      "visibility": null,
      "width": null
     }
    },
    "d59ec1f1ea474787a406adafeb4209a0": {
     "model_module": "@jupyter-widgets/base",
     "model_module_version": "1.2.0",
     "model_name": "LayoutModel",
     "state": {
      "_model_module": "@jupyter-widgets/base",
      "_model_module_version": "1.2.0",
      "_model_name": "LayoutModel",
      "_view_count": null,
      "_view_module": "@jupyter-widgets/base",
      "_view_module_version": "1.2.0",
      "_view_name": "LayoutView",
      "align_content": null,
      "align_items": null,
      "align_self": null,
      "border": null,
      "bottom": null,
      "display": null,
      "flex": null,
      "flex_flow": null,
      "grid_area": null,
      "grid_auto_columns": null,
      "grid_auto_flow": null,
      "grid_auto_rows": null,
      "grid_column": null,
      "grid_gap": null,
      "grid_row": null,
      "grid_template_areas": null,
      "grid_template_columns": null,
      "grid_template_rows": null,
      "height": null,
      "justify_content": null,
      "justify_items": null,
      "left": null,
      "margin": null,
      "max_height": null,
      "max_width": null,
      "min_height": null,
      "min_width": null,
      "object_fit": null,
      "object_position": null,
      "order": null,
      "overflow": null,
      "overflow_x": null,
      "overflow_y": null,
      "padding": null,
      "right": null,
      "top": null,
      "visibility": null,
      "width": null
     }
    },
    "fbf12235144c439b84700234009ac9ba": {
     "model_module": "jupyter-matplotlib",
     "model_module_version": "^0.11",
     "model_name": "ToolbarModel",
     "state": {
      "_current_action": "",
      "_dom_classes": [],
      "_model_module": "jupyter-matplotlib",
      "_model_module_version": "^0.11",
      "_model_name": "ToolbarModel",
      "_view_count": null,
      "_view_module": "jupyter-matplotlib",
      "_view_module_version": "^0.11",
      "_view_name": "ToolbarView",
      "button_style": "",
      "collapsed": true,
      "layout": "IPY_MODEL_247d37153a6c4b3299aa1a00b4e677c3",
      "orientation": "vertical",
      "toolitems": [
       [
        "Home",
        "Reset original view",
        "home",
        "home"
       ],
       [
        "Back",
        "Back to previous view",
        "arrow-left",
        "back"
       ],
       [
        "Forward",
        "Forward to next view",
        "arrow-right",
        "forward"
       ],
       [
        "Pan",
        "Left button pans, Right button zooms\nx/y fixes axis, CTRL fixes aspect",
        "arrows",
        "pan"
       ],
       [
        "Zoom",
        "Zoom to rectangle\nx/y fixes axis",
        "square-o",
        "zoom"
       ],
       [
        "Download",
        "Download plot",
        "floppy-o",
        "save_figure"
       ]
      ]
     }
    }
   }
  }
 },
 "nbformat": 4,
 "nbformat_minor": 5
}
